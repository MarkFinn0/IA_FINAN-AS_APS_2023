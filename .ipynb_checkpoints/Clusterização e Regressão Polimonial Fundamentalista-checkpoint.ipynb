{
 "cells": [
  {
   "cell_type": "markdown",
   "id": "1443276f",
   "metadata": {},
   "source": [
    "# 1.Pré tratamento dos dados para análise."
   ]
  },
  {
   "cell_type": "code",
   "execution_count": 141,
   "id": "001adca9",
   "metadata": {},
   "outputs": [],
   "source": [
    "from sklearn.cluster import KMeans\n",
    "from sklearn.preprocessing import StandardScaler, normalize\n",
    "from sklearn.decomposition import PCA\n",
    "import pandas as pd\n",
    "import numpy as np\n",
    "from datetime import date, datetime\n",
    "from dateutil.relativedelta import relativedelta\n",
    "from sklearn.preprocessing import PolynomialFeatures\n",
    "from sklearn.pipeline import make_pipeline\n",
    "from sklearn.linear_model import LinearRegression\n",
    "import warnings\n",
    "warnings.filterwarnings(\"ignore\")"
   ]
  },
  {
   "cell_type": "code",
   "execution_count": 142,
   "id": "c2993c3a",
   "metadata": {},
   "outputs": [],
   "source": [
    "df=pd.read_csv(r\"Cuspidão\\Completao.csv\",delimiter=';',encoding=\"latin-1\",decimal=',')\n"
   ]
  },
  {
   "cell_type": "markdown",
   "id": "5d6e52f9",
   "metadata": {},
   "source": [
    "# Criar variáveis gerais"
   ]
  },
  {
   "cell_type": "code",
   "execution_count": 143,
   "id": "8db85fdc",
   "metadata": {},
   "outputs": [],
   "source": [
    "#Cria um variável com o nome de todos os setores do dataset e cria uma flag para se tem somente essa empresa no setor\n",
    "ListofCompanies=df.drop_duplicates(subset=['SETOR_ATIV','Nome Empresa'])\n",
    "ListofCompanies=ListofCompanies['SETOR_ATIV'].value_counts()\n",
    "ListofCompanies=pd.DataFrame(ListofCompanies)\n",
    "Listof1Companies=ListofCompanies[ListofCompanies['SETOR_ATIV']<4]\n",
    "ListofCompanies=ListofCompanies[ListofCompanies['SETOR_ATIV']>=4]\n",
    "ListofCompanies['Flag1Company']=0\n",
    "Listof1Companies['Flag1Company']=1\n",
    "ListofCompanies=pd.concat([ListofCompanies,Listof1Companies])\n",
    "ListofCompanies['SETOR_ATIV']=ListofCompanies.index\n",
    "\n",
    "#Cria Variáveis de Cuspir\n",
    "DF_Polyline=pd.DataFrame()\n",
    "DF_Cuspidao=pd.DataFrame()\n",
    "DF_Cuspidao2=pd.DataFrame()\n",
    "DF_Cuspidao_BAU=pd.DataFrame()\n",
    "DF_Cuspidao_RESTO=pd.DataFrame()\n",
    "df_produ_kmeans_REST_ALL=pd.DataFrame()"
   ]
  },
  {
   "cell_type": "markdown",
   "id": "057cfec9",
   "metadata": {},
   "source": [
    "# Pré tratar dados para modelos\n"
   ]
  },
  {
   "cell_type": "code",
   "execution_count": 144,
   "id": "45d57da5",
   "metadata": {},
   "outputs": [],
   "source": [
    "#Criar ano e mes\n",
    "df['Ano']=df['DT_REFER'].apply(str).str[0:4]\n",
    "df['Mes']=df['DT_REFER'].apply(str).str[5:7]\n",
    "#Transformar colunas negativas em positivas\n",
    "df['Passivo Circulante']=df['Passivo Circulante']*-1\n",
    "df['Passivo Total']=df['Passivo Total']*-1\n",
    "#Coloca a Flag de 1 company no dataset central\n",
    "df1 = pd.merge( ListofCompanies,df, left_on='SETOR_ATIV', right_on='SETOR_ATIV')\n"
   ]
  },
  {
   "cell_type": "code",
   "execution_count": 145,
   "id": "a46455e7",
   "metadata": {},
   "outputs": [],
   "source": [
    "df_produ=df1"
   ]
  },
  {
   "cell_type": "code",
   "execution_count": 146,
   "id": "69a55555",
   "metadata": {},
   "outputs": [],
   "source": [
    "#Transforma as relações de indicadores para clusterizar em numeros, para o for andar de lado.\n",
    "df_produ[14]=df_produ['Ativo Circulante'].clip(lower=0)\n",
    "df_produ[13]=df_produ['Patrimônio Líquido'].clip(lower=0)\n",
    "df_produ[12]=df_produ['Passivo Circulante'].clip(upper=0)\n",
    "df_produ[11]=df_produ['Patrimônio Líquido'].clip(lower=0)\n",
    "df_produ[10]=df_produ['Passivo Total'].clip(upper=0)\n",
    "df_produ[9]=df_produ['Patrimônio Líquido'].clip(lower=0)\n",
    "df_produ[8]=df_produ['Ativo Total'].clip(lower=0)\n",
    "df_produ[7]=df_produ['Patrimônio Líquido'].clip(lower=0)\n",
    "df_produ[6]=df_produ['Reservas de Lucro'].clip(lower=0)\n",
    "df_produ[5]=df_produ['Receita'].clip(lower=0)\n",
    "df_produ[4]=df_produ['Receita'].clip(lower=0)\n",
    "df_produ[3]=df_produ['Patrimônio Líquido'].clip(lower=0)\n",
    "df_produ[2]=df_produ['Receita'].clip(lower=0)\n",
    "df_produ[1]=df_produ['Lucro/Prejuízo do Período'].clip(lower=0)"
   ]
  },
  {
   "cell_type": "markdown",
   "id": "8a1ddd54",
   "metadata": {},
   "source": [
    "# Clusterizar as empresas com dados realizados"
   ]
  },
  {
   "cell_type": "code",
   "execution_count": 147,
   "id": "8160b4ee",
   "metadata": {},
   "outputs": [],
   "source": [
    "df_provisorio=df_produ\n",
    "df_provisorio=df_provisorio[['Nome Empresa',\n",
    "                             'Ticker',\n",
    "                             'SETOR_ATIV',\n",
    "                             'Flag1Company',\n",
    "                             'DT_REFER',\n",
    "                             'Ano',\n",
    "                             'Mes',\n",
    "                             1,2,3,4,5,6,7,8,9,10,11,12,13,14]]\n",
    "#BAU KMEANS\n",
    "for y in range(1,13):\n",
    "    for x in ListofCompanies.index.values:\n",
    "        if y==1:\n",
    "            y1=1\n",
    "            y2=2\n",
    "        else:\n",
    "            y1=y+1\n",
    "            y2=y+2\n",
    "        #filtra o setor\n",
    "        df_produ_kmeans=df_provisorio[(df_provisorio['SETOR_ATIV']==x)&(df_provisorio['Flag1Company']==0)].reset_index(drop=True)\n",
    "        AnoMAX=df_produ_kmeans['DT_REFER'].apply(str).str[0:4].max()\n",
    "        MesMAX=df_produ_kmeans['DT_REFER'].apply(str).str[5:7].max()\n",
    "        #Filtrar ano e mês (ultimo tri de cada setor)\n",
    "        df_produ_kmeans=df_produ_kmeans[(df_produ_kmeans[\"Ano\"]==AnoMAX)&(df_produ_kmeans[\"Mes\"]==MesMAX)].reset_index(drop=True)      \n",
    "        #Clusteriza as empresas com valores negativos como 0 (ruim)\n",
    "        df_produ_kmeans_REST_NO=df_produ_kmeans[(df_produ_kmeans[y1]==0)|(df_produ_kmeans[y2]==0)].reset_index(drop=True)\n",
    "        df_produ_kmeans_REST_NO[f\"{y1}{y2} Cluster\"]=0\n",
    "        #Separa as empresas que são elegíveis a escalabilidade e a clusterização\n",
    "        df_produ_kmeans=df_produ_kmeans[(df_produ_kmeans[y1]!=0)&(df_produ_kmeans[y2]!=0)].reset_index(drop=True)\n",
    "        df_produ_kmeans=df_produ_kmeans.sort_values(by=[y1,y2]).reset_index(drop=True)\n",
    "        \n",
    "        #se tiver mais de 1 amostra (empresa)\n",
    "        if len(df_produ_kmeans)>=2:\n",
    "            #FAÇO A ESCALABILIDADE COM STANDARD\n",
    "            scaler = StandardScaler() \n",
    "            pca = PCA(n_components = 2) \n",
    "            features= df_produ_kmeans[[y1,y2]]\n",
    "            scaled_df = scaler.fit_transform(features) \n",
    "            normalized_df = normalize(scaled_df) \n",
    "            normalized_df = pd.DataFrame(normalized_df)\n",
    "            #E DEPOIS REDUZO AS DIMENSÕES E CORRELAÇÕES COM O PCA\n",
    "            X_principal = pca.fit_transform(normalized_df) \n",
    "            features = pd.DataFrame(X_principal) \n",
    "            features.columns = ['P1', 'P2']\n",
    "            c=3\n",
    "            if len(features)<3:\n",
    "                c=len(features)\n",
    "            kmeans = KMeans(n_clusters=c, init='random',\n",
    "                        n_init=10,\n",
    "                        max_iter=300,random_state=0)\n",
    "            kmeans.fit(features)\n",
    "            d = KMeans(n_clusters=c, init='random',\n",
    "                        n_init=10,\n",
    "                        max_iter=300,random_state=0).fit_predict(features)\n",
    "            df_produ_kmeans[f\"{y1}{y2} Cluster\"]=d\n",
    "            DF_Cuspidao2=pd.concat([df_produ_kmeans,df_produ_kmeans_REST_NO]).reset_index(drop=True)\n",
    "            DF_Cuspidao_BAU=pd.concat([DF_Cuspidao2,DF_Cuspidao_BAU]).reset_index(drop=True)\n",
    "        else:\n",
    "            DF_Cuspidao2=pd.concat([df_produ_kmeans,df_produ_kmeans_REST_NO]).reset_index(drop=True)\n",
    "            DF_Cuspidao_BAU=pd.concat([DF_Cuspidao2,DF_Cuspidao_BAU]).reset_index(drop=True)\n",
    "    df_provisorio=DF_Cuspidao_BAU\n",
    "    DF_Cuspidao2=pd.DataFrame()\n",
    "    DF_Cuspidao_BAU=pd.DataFrame()\n",
    "    \n",
    "DF_Cuspidao_BAU=df_provisorio\n",
    "DF_Cuspidao=pd.DataFrame()\n",
    "df_provisorio=df_produ\n",
    "df_provisorio=df_provisorio[['Nome Empresa',\n",
    "                             'Ticker',\n",
    "                             'SETOR_ATIV',\n",
    "                             'Flag1Company',\n",
    "                             'DT_REFER',\n",
    "                             'Ano',\n",
    "                             'Mes',\n",
    "                             1,2,3,4,5,6,7,8,9,10,11,12,13,14]]\n",
    "#REJEITADOS KMEANS\n",
    "for y in range(1,13):\n",
    "    if y==1:\n",
    "        y1=1\n",
    "        y2=2\n",
    "    else:\n",
    "        y1=y+1\n",
    "        y2=y+2\n",
    "    #filtra o setor\n",
    "    df_produ_kmeans=df_provisorio[(df_provisorio['Flag1Company']==1)].reset_index(drop=True)\n",
    "    AnoMAX=df_produ_kmeans['DT_REFER'].apply(str).str[0:4].max()\n",
    "    MesMAX=df_produ_kmeans['DT_REFER'].apply(str).str[5:7].max()\n",
    "    #Filtrar ano e mês (ultimo tri de cada setor)\n",
    "    df_produ_kmeans=df_produ_kmeans[(df_produ_kmeans[\"Ano\"]==AnoMAX)&(df_produ_kmeans[\"Mes\"]==MesMAX)].reset_index(drop=True)\n",
    "    #Clusteriza as empresas com valores negativos como 0 (ruim)\n",
    "    df_produ_kmeans_REST_NO=df_produ_kmeans[(df_produ_kmeans[y1]==0)|(df_produ_kmeans[y2]==0)].reset_index(drop=True)\n",
    "    df_produ_kmeans_REST_NO[f\"{y1}{y2} Cluster\"]=0\n",
    "    #Separa as empresas que são elegíveis a escalabilidade e a clusterização\n",
    "    df_produ_kmeans=df_produ_kmeans[(df_produ_kmeans[y1]!=0)&(df_produ_kmeans[y2]!=0)].reset_index(drop=True)\n",
    "    df_produ_kmeans=df_produ_kmeans.sort_values(by=[y1,y2]).reset_index(drop=True)\n",
    "    #se tiver mais de 1 amostra (empresa)\n",
    "    if len(df_produ_kmeans)>=2:\n",
    "        #FAÇO A ESCALABILIDADE COM STANDARD\n",
    "        scaler = StandardScaler() \n",
    "        pca = PCA(n_components = 2) \n",
    "        features= df_produ_kmeans[[y1,y2]]\n",
    "        scaled_df = scaler.fit_transform(features) \n",
    "        normalized_df = normalize(scaled_df) \n",
    "        normalized_df = pd.DataFrame(normalized_df)\n",
    "        #E DEPOIS REDUZO AS DIMENSÕES E CORRELAÇÕES COM O PCA\n",
    "        X_principal = pca.fit_transform(normalized_df) \n",
    "        features = pd.DataFrame(X_principal) \n",
    "        features.columns = ['P1', 'P2']\n",
    "        c=3\n",
    "        if len(features)<3:\n",
    "            c=len(features)\n",
    "        kmeans=0\n",
    "        kmeans = KMeans(n_clusters=c, init='random',\n",
    "                    n_init=10,\n",
    "                    max_iter=300,random_state=0)\n",
    "        kmeans.fit(features)\n",
    "        d = KMeans(n_clusters=c, init='random',\n",
    "                    n_init=10,\n",
    "                    max_iter=300,random_state=0).fit_predict(features)\n",
    "        df_produ_kmeans[f\"{y1}{y2} Cluster\"]=d\n",
    "        DF_Cuspidao2=pd.concat([df_produ_kmeans,df_produ_kmeans_REST_NO]).reset_index(drop=True)\n",
    "        DF_Cuspidao_RESTO=pd.concat([DF_Cuspidao2,DF_Cuspidao_RESTO]).reset_index(drop=True)\n",
    "    else:\n",
    "        DF_Cuspidao2=pd.concat([df_produ_kmeans,df_produ_kmeans_REST_NO]).reset_index(drop=True)\n",
    "        DF_Cuspidao_RESTO=pd.concat([DF_Cuspidao2,DF_Cuspidao_RESTO]).reset_index(drop=True)\n",
    "    df_provisorio=DF_Cuspidao_RESTO\n",
    "    DF_Cuspidao2=pd.DataFrame()\n",
    "    DF_Cuspidao_RESTO=pd.DataFrame()\n",
    "DF_kmeans=pd.concat([DF_Cuspidao_BAU,df_provisorio]).reset_index(drop=True)\n",
    "DF_kmeans[\"Dados\"]=\"Realizado\""
   ]
  },
  {
   "cell_type": "code",
   "execution_count": 148,
   "id": "6b3a891c",
   "metadata": {},
   "outputs": [],
   "source": [
    "DF_kmeans=DF_kmeans[['Nome Empresa','Ticker','SETOR_ATIV','DT_REFER',\"Dados\",\n",
    "             1,2,3,4,5,6,7,8,9,10,11,12,13,14,\n",
    "            '12 Cluster',\n",
    "            '34 Cluster',\n",
    "            '56 Cluster',\n",
    "            '78 Cluster',\n",
    "            '910 Cluster',\n",
    "            '1112 Cluster',\n",
    "            '1314 Cluster',\n",
    "             ]]"
   ]
  },
  {
   "cell_type": "markdown",
   "id": "b8b8d4dc",
   "metadata": {},
   "source": [
    "# Prever os próximos 4 tri"
   ]
  },
  {
   "cell_type": "code",
   "execution_count": 149,
   "id": "3cbbe876",
   "metadata": {},
   "outputs": [],
   "source": [
    "df_produ=df1"
   ]
  },
  {
   "cell_type": "code",
   "execution_count": 150,
   "id": "38755ef8",
   "metadata": {},
   "outputs": [],
   "source": [
    "df_produ[14]=df_produ['Ativo Circulante']\n",
    "df_produ[13]=df_produ['Patrimônio Líquido']\n",
    "df_produ[12]=df_produ['Passivo Circulante']\n",
    "df_produ[11]=df_produ['Patrimônio Líquido']\n",
    "df_produ[10]=df_produ['Passivo Total']\n",
    "df_produ[9]=df_produ['Patrimônio Líquido']\n",
    "df_produ[8]=df_produ['Ativo Total']\n",
    "df_produ[7]=df_produ['Patrimônio Líquido']\n",
    "df_produ[6]=df_produ['Reservas de Lucro']\n",
    "df_produ[5]=df_produ['Receita']\n",
    "df_produ[4]=df_produ['Receita']\n",
    "df_produ[3]=df_produ['Patrimônio Líquido']\n",
    "df_produ[2]=df_produ['Receita']\n",
    "df_produ[1]=df_produ['Lucro/Prejuízo do Período']\n"
   ]
  },
  {
   "cell_type": "code",
   "execution_count": 151,
   "id": "94532911",
   "metadata": {},
   "outputs": [],
   "source": [
    "df_provisorio=df_produ\n",
    "df_provisorio=df_provisorio[['Nome Empresa',\n",
    "                             'Ticker',\n",
    "                             'SETOR_ATIV',\n",
    "                             'Flag1Company',\n",
    "                             'DT_REFER',\n",
    "                             'Ano',\n",
    "                             'Mes',\n",
    "                             1,2,3,4,5,6,7,8,9,10,11,12,13,14]]\n",
    "LitsofTickers=df_provisorio.drop_duplicates(subset='Ticker')\n",
    "LitsofTickers=LitsofTickers['Ticker'].values\n",
    "for x in LitsofTickers:\n",
    "    DF_Poly=df_provisorio[df_provisorio['Ticker']==x].reset_index(drop=True)\n",
    "    DF_Poly.sort_values(by=['DT_REFER']).reset_index(drop=True)\n",
    "    DF_Poly[\"indexes\"]=DF_Poly.index\n",
    "    DF_Poly['DT_REFER']=pd.to_datetime(DF_Poly['DT_REFER'])\n",
    "    Lastmonth=DF_Poly.iloc[-1]['DT_REFER']\n",
    "    Lastname=DF_Poly.iloc[-1]['Nome Empresa']\n",
    "    Lastsector=DF_Poly.iloc[-1]['SETOR_ATIV']\n",
    "    Lastnamesub=DF_Poly.iloc[-1]['Ticker']\n",
    "    Lastindex=DF_Poly.iloc[-1]['indexes']\n",
    "    Lastmonth1=Lastmonth+ relativedelta(months=+3)\n",
    "    Lastmonth2=Lastmonth+ relativedelta(months=+6)\n",
    "    Lastmonth3=Lastmonth+ relativedelta(months=+9)\n",
    "    Lastmonth4=Lastmonth+ relativedelta(months=+12)\n",
    "    Dateto=pd.DataFrame({'Data_REF': [Lastmonth1,Lastmonth2,Lastmonth3,Lastmonth4,]})\n",
    "    X_seq=pd.DataFrame({'x': [Lastindex+1,Lastindex+2,Lastindex+3,Lastindex+4,]})\n",
    "    polyreg=make_pipeline(PolynomialFeatures(3),LinearRegression())\n",
    "    Pred=Dateto\n",
    "    Pred[\"Nome Empresa\"]=Lastname\n",
    "    Pred['Ticker']=Lastnamesub\n",
    "    Pred['SETOR_ATIV']=Lastsector\n",
    "    for y in range(1,15):\n",
    "        yy=DF_Poly[['indexes']]\n",
    "        xx=DF_Poly[[y]]\n",
    "        polyreg.fit(yy,xx)\n",
    "        Pred2=polyreg.predict(X_seq)\n",
    "        Pred2=pd.DataFrame(Pred2,columns=[y])\n",
    "        Pred[y]=Pred2\n",
    "    DF_Polyline=pd.concat([Pred,DF_Polyline]).reset_index(drop=True)\n",
    "\n",
    "    \n",
    "DF_Polyline['Ano']=DF_Polyline['Data_REF'].apply(str).str[0:4]\n",
    "DF_Polyline['Mes']=DF_Polyline['Data_REF'].apply(str).str[5:7]"
   ]
  },
  {
   "cell_type": "code",
   "execution_count": 84,
   "id": "dca0ed66",
   "metadata": {},
   "outputs": [],
   "source": [
    "#DF_Cuspidao=DF_Cuspidao.fillna(0)\n",
    "DF_kmeans.to_csv(rf\"Cuspidão\\K_Cluster_companies.csv\",decimal=',',sep=';', encoding='latin-1',index=False)"
   ]
  },
  {
   "cell_type": "markdown",
   "id": "9c7b6ef5",
   "metadata": {},
   "source": [
    "# Organizar os dados para cuspir no Front"
   ]
  },
  {
   "cell_type": "code",
   "execution_count": 152,
   "id": "26c350f0",
   "metadata": {},
   "outputs": [],
   "source": [
    "DF_kmeans=DF_kmeans.fillna(0)"
   ]
  },
  {
   "cell_type": "code",
   "execution_count": 153,
   "id": "934c0ec4",
   "metadata": {},
   "outputs": [],
   "source": [
    "#DF_Cuspidao.to_csv(rf\"Cuspidão\\K_Cluster_companies.csv\",decimal=',',sep=';', encoding='latin-1',index=False)"
   ]
  },
  {
   "cell_type": "code",
   "execution_count": 154,
   "id": "8c9e47c7",
   "metadata": {},
   "outputs": [],
   "source": [
    "DF_kmeans_1=DF_kmeans[['Ticker','DT_REFER',\"Dados\",\n",
    "            '12 Cluster',\n",
    "            '34 Cluster',\n",
    "            '56 Cluster',\n",
    "            '78 Cluster',\n",
    "            '910 Cluster',\n",
    "            '1112 Cluster',\n",
    "            '1314 Cluster',\n",
    "             ]]"
   ]
  },
  {
   "cell_type": "code",
   "execution_count": 155,
   "id": "f5d0607a",
   "metadata": {},
   "outputs": [
    {
     "name": "stdout",
     "output_type": "stream",
     "text": [
      "    Ticker    DT_REFER      Dados  12 Cluster  34 Cluster  56 Cluster  \\\n",
      "0     SHOW  2022-09-30  Realizado         0.0         5.0         0.0   \n",
      "1     BMKS  2022-09-30  Realizado         0.0        10.0        10.0   \n",
      "2     SMFT  2022-09-30  Realizado        10.0         0.0         0.0   \n",
      "3     ESTR  2022-09-30  Realizado         0.0         0.0         0.0   \n",
      "4     TKNO  2022-09-30  Realizado         0.0         5.0         5.0   \n",
      "..     ...         ...        ...         ...         ...         ...   \n",
      "259   BRAP  2022-09-30  Realizado         0.0         5.0         0.0   \n",
      "260   NEMO  2022-09-30  Realizado         0.0         5.0         0.0   \n",
      "261   B3SA  2022-09-30  Realizado         0.0         0.0        10.0   \n",
      "262   ABEV  2022-09-30  Realizado         5.0         0.0         5.0   \n",
      "263   AHEB  2022-09-30  Realizado         0.0         0.0         0.0   \n",
      "\n",
      "     78 Cluster  910 Cluster  1112 Cluster  1314 Cluster Nota da Empresa  \n",
      "0           5.0          5.0           5.0           5.0            Ruim  \n",
      "1          10.0         10.0          10.0          10.0             Bom  \n",
      "2           0.0          0.0           0.0           0.0            Ruim  \n",
      "3           0.0          0.0           0.0           0.0            Ruim  \n",
      "4           5.0          5.0           5.0           5.0            Ruim  \n",
      "..          ...          ...           ...           ...             ...  \n",
      "259        10.0         10.0          10.0          10.0           Médio  \n",
      "260        10.0         10.0          10.0          10.0           Médio  \n",
      "261         5.0          5.0           5.0           0.0            Ruim  \n",
      "262         5.0          5.0           5.0           0.0            Ruim  \n",
      "263         0.0          0.0           0.0           0.0            Ruim  \n",
      "\n",
      "[264 rows x 11 columns]\n"
     ]
    }
   ],
   "source": [
    "print(DF_kmeans_2)"
   ]
  },
  {
   "cell_type": "code",
   "execution_count": 156,
   "id": "6e23adad",
   "metadata": {},
   "outputs": [],
   "source": [
    "DF_kmeans_2=DF_kmeans_1.loc[:,('Ticker','DT_REFER',\"Dados\",'12 Cluster',\n",
    "            '34 Cluster',\n",
    "            '56 Cluster',\n",
    "            '78 Cluster',\n",
    "            '910 Cluster',\n",
    "            '1112 Cluster',\n",
    "            '1314 Cluster')].replace([0,1,2],[0,10,5])\n"
   ]
  },
  {
   "cell_type": "code",
   "execution_count": 157,
   "id": "0d5b7813",
   "metadata": {},
   "outputs": [
    {
     "name": "stdout",
     "output_type": "stream",
     "text": [
      "    Ticker    DT_REFER      Dados  12 Cluster  34 Cluster  56 Cluster  \\\n",
      "0     SHOW  2022-09-30  Realizado         0.0         5.0         0.0   \n",
      "1     BMKS  2022-09-30  Realizado         0.0        10.0        10.0   \n",
      "2     SMFT  2022-09-30  Realizado        10.0         0.0         0.0   \n",
      "3     ESTR  2022-09-30  Realizado         0.0         0.0         0.0   \n",
      "4     TKNO  2022-09-30  Realizado         0.0         5.0         5.0   \n",
      "..     ...         ...        ...         ...         ...         ...   \n",
      "283   ABEV  2022-09-30  Realizado         5.0        10.0         5.0   \n",
      "284   VALE  2022-09-30  Realizado         5.0        10.0         5.0   \n",
      "285   MNPR  2022-09-30  Realizado         0.0         0.0        10.0   \n",
      "286   HOOT  2022-09-30  Realizado         0.0         0.0         0.0   \n",
      "287   AHEB  2022-09-30  Realizado         0.0         0.0         0.0   \n",
      "\n",
      "     78 Cluster  910 Cluster  1112 Cluster  1314 Cluster  \n",
      "0           5.0          5.0           5.0           5.0  \n",
      "1          10.0         10.0          10.0          10.0  \n",
      "2           0.0          0.0           0.0           0.0  \n",
      "3           0.0          0.0           0.0           0.0  \n",
      "4           5.0          5.0           5.0           5.0  \n",
      "..          ...          ...           ...           ...  \n",
      "283        10.0         10.0           5.0           5.0  \n",
      "284        10.0         10.0           5.0           5.0  \n",
      "285         0.0          0.0           0.0           0.0  \n",
      "286         0.0          0.0           0.0           0.0  \n",
      "287         0.0          0.0           0.0           0.0  \n",
      "\n",
      "[288 rows x 10 columns]\n"
     ]
    }
   ],
   "source": [
    "print(DF_kmeans_2)"
   ]
  },
  {
   "cell_type": "code",
   "execution_count": 158,
   "id": "d692739f",
   "metadata": {},
   "outputs": [],
   "source": [
    "DF_kmeans_2['Nota da Empresa']=DF_kmeans_2['12 Cluster']+DF_kmeans_2['34 Cluster']+DF_kmeans_2['56 Cluster']+DF_kmeans_2['78 Cluster']+DF_kmeans_2['910 Cluster']+DF_kmeans_2['1112 Cluster']+DF_kmeans_2['1314 Cluster']\n",
    "DF_kmeans_2['Nota da Empresa']=DF_kmeans_2['Nota da Empresa']/7"
   ]
  },
  {
   "cell_type": "code",
   "execution_count": 159,
   "id": "717266bc",
   "metadata": {},
   "outputs": [],
   "source": [
    "DF_kmeans_2['Nota da Empresa']=np.where(DF_kmeans_2['Nota da Empresa']<5,\"Ruim\",\n",
    "                                        (np.where((DF_kmeans_2['Nota da Empresa']>=5) & (DF_kmeans_2['Nota da Empresa']<7) ,\"Médio\",\"Bom\")))\n"
   ]
  },
  {
   "cell_type": "code",
   "execution_count": 160,
   "id": "ed8f3e01",
   "metadata": {},
   "outputs": [
    {
     "name": "stdout",
     "output_type": "stream",
     "text": [
      "    Ticker    DT_REFER      Dados  12 Cluster  34 Cluster  56 Cluster  \\\n",
      "0     SHOW  2022-09-30  Realizado         0.0         5.0         0.0   \n",
      "1     BMKS  2022-09-30  Realizado         0.0        10.0        10.0   \n",
      "2     SMFT  2022-09-30  Realizado        10.0         0.0         0.0   \n",
      "3     ESTR  2022-09-30  Realizado         0.0         0.0         0.0   \n",
      "4     TKNO  2022-09-30  Realizado         0.0         5.0         5.0   \n",
      "..     ...         ...        ...         ...         ...         ...   \n",
      "283   ABEV  2022-09-30  Realizado         5.0        10.0         5.0   \n",
      "284   VALE  2022-09-30  Realizado         5.0        10.0         5.0   \n",
      "285   MNPR  2022-09-30  Realizado         0.0         0.0        10.0   \n",
      "286   HOOT  2022-09-30  Realizado         0.0         0.0         0.0   \n",
      "287   AHEB  2022-09-30  Realizado         0.0         0.0         0.0   \n",
      "\n",
      "     78 Cluster  910 Cluster  1112 Cluster  1314 Cluster Nota da Empresa  \n",
      "0           5.0          5.0           5.0           5.0            Ruim  \n",
      "1          10.0         10.0          10.0          10.0             Bom  \n",
      "2           0.0          0.0           0.0           0.0            Ruim  \n",
      "3           0.0          0.0           0.0           0.0            Ruim  \n",
      "4           5.0          5.0           5.0           5.0            Ruim  \n",
      "..          ...          ...           ...           ...             ...  \n",
      "283        10.0         10.0           5.0           5.0             Bom  \n",
      "284        10.0         10.0           5.0           5.0             Bom  \n",
      "285         0.0          0.0           0.0           0.0            Ruim  \n",
      "286         0.0          0.0           0.0           0.0            Ruim  \n",
      "287         0.0          0.0           0.0           0.0            Ruim  \n",
      "\n",
      "[288 rows x 11 columns]\n"
     ]
    }
   ],
   "source": [
    "print(DF_kmeans_2)"
   ]
  },
  {
   "cell_type": "code",
   "execution_count": 163,
   "id": "fc2e2bd0",
   "metadata": {},
   "outputs": [
    {
     "name": "stdout",
     "output_type": "stream",
     "text": [
      "    Ticker    DT_REFER      Dados  12 Cluster  34 Cluster  56 Cluster  \\\n",
      "181   ITUB  2022-09-30  Realizado         0.0        10.0        10.0   \n",
      "\n",
      "     78 Cluster  910 Cluster  1112 Cluster  1314 Cluster Nota da Empresa  \n",
      "181        10.0         10.0           5.0           5.0             Bom  \n"
     ]
    }
   ],
   "source": [
    "\n",
    "X=DF_kmeans_2[(DF_kmeans_2['Ticker']=='ITUB')]\n",
    "print(X)"
   ]
  },
  {
   "cell_type": "code",
   "execution_count": null,
   "id": "dcd23c29",
   "metadata": {},
   "outputs": [],
   "source": []
  }
 ],
 "metadata": {
  "kernelspec": {
   "display_name": "Python 3 (ipykernel)",
   "language": "python",
   "name": "python3"
  },
  "language_info": {
   "codemirror_mode": {
    "name": "ipython",
    "version": 3
   },
   "file_extension": ".py",
   "mimetype": "text/x-python",
   "name": "python",
   "nbconvert_exporter": "python",
   "pygments_lexer": "ipython3",
   "version": "3.9.13"
  }
 },
 "nbformat": 4,
 "nbformat_minor": 5
}
