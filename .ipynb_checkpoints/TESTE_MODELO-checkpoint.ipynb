{
 "cells": [
  {
   "cell_type": "markdown",
   "id": "1443276f",
   "metadata": {},
   "source": [
    "# 1.Pré tratamento dos dados para análise."
   ]
  },
  {
   "cell_type": "code",
   "execution_count": 923,
   "id": "001adca9",
   "metadata": {},
   "outputs": [],
   "source": [
    "from mlxtend.preprocessing import minmax_scaling\n",
    "from sklearn.preprocessing  import KBinsDiscretizer\n",
    "from sklearn.model_selection import train_test_split\n",
    "from sklearn.naive_bayes import GaussianNB\n",
    "import matplotlib.pyplot as plt\n",
    "from sklearn.cluster import KMeans\n",
    "from sklearn.neighbors import NearestNeighbors\n",
    "from sklearn.preprocessing import Binarizer\n",
    "import pandas as pd\n",
    "import numpy as np"
   ]
  },
  {
   "cell_type": "code",
   "execution_count": 687,
   "id": "c2993c3a",
   "metadata": {},
   "outputs": [],
   "source": [
    "df=pd.read_csv(r\"C:\\Users\\marqu\\Desktop\\Estudos Finanças\\Cuspidão\\Completao.csv\",delimiter=';',encoding=\"latin-1\",decimal=',')\n",
    "df['Ano']=df['DT_REFER'].apply(str).str[0:4]\n",
    "df['Mes']=df['DT_REFER'].apply(str).str[5:7]\n",
    "df['Passivo Circulante']=df['Passivo Circulante']*-1\n",
    "df['Passivo Total']=df['Passivo Total']*-1\n",
    "df['Obrigações Sociais e Trabalhistas']=df['Obrigações Sociais e Trabalhistas']*-1\n",
    "df['Obrigações Fiscais']=df['Obrigações Fiscais']*-1"
   ]
  },
  {
   "cell_type": "code",
   "execution_count": 682,
   "id": "8e6d51fe",
   "metadata": {},
   "outputs": [
    {
     "name": "stdout",
     "output_type": "stream",
     "text": [
      "                       Nome Empresa Ticker                  SETOR_ATIV  \\\n",
      "0      3R PETROLEUM ÓLEO E GÁS S.A.   RRRP              Petróleo e Gás   \n",
      "1      3R PETROLEUM ÓLEO E GÁS S.A.   RRRP              Petróleo e Gás   \n",
      "2      3R PETROLEUM ÓLEO E GÁS S.A.   RRRP              Petróleo e Gás   \n",
      "3      3R PETROLEUM ÓLEO E GÁS S.A.   RRRP              Petróleo e Gás   \n",
      "4      3R PETROLEUM ÓLEO E GÁS S.A.   RRRP              Petróleo e Gás   \n",
      "...                             ...    ...                         ...   \n",
      "10348      YDUQS PARTICIPACOES S.A.   YDUQ  Emp. Adm. Part. - Educação   \n",
      "10349      YDUQS PARTICIPACOES S.A.   YDUQ  Emp. Adm. Part. - Educação   \n",
      "10350      YDUQS PARTICIPACOES S.A.   YDUQ  Emp. Adm. Part. - Educação   \n",
      "10351      YDUQS PARTICIPACOES S.A.   YDUQ  Emp. Adm. Part. - Educação   \n",
      "10352      YDUQS PARTICIPACOES S.A.   YDUQ  Emp. Adm. Part. - Educação   \n",
      "\n",
      "         DT_REFER  Ativo Circulante  Ativo Total  Contas a Receber  \\\n",
      "0      2020-03-31              3043       347642                 0   \n",
      "1      2020-06-30              1975       323655                 0   \n",
      "2      2020-09-30              1280       320788                 0   \n",
      "3      2021-03-31           1378821      1829110            790530   \n",
      "4      2021-06-30           1161876      1841909                 0   \n",
      "...           ...               ...          ...               ...   \n",
      "10348  2021-06-30            703872      7110223                 0   \n",
      "10349  2021-09-30            494739      7228303                 0   \n",
      "10350  2022-03-31            342716      7307064                 0   \n",
      "10351  2022-06-30            111805      7185096                 0   \n",
      "10352  2022-09-30            213734      7211873                 0   \n",
      "\n",
      "       Lucro/Prejuízo do Período  Obrigações Fiscais  \\\n",
      "0                       -27951.0                 -98   \n",
      "1                       -42319.0                   0   \n",
      "2                       -12749.0                   0   \n",
      "3                       -43974.0                   0   \n",
      "4                        24107.0                   0   \n",
      "...                          ...                 ...   \n",
      "10348                   116465.0                -324   \n",
      "10349                    72831.0                -580   \n",
      "10350                    76039.0               -4955   \n",
      "10351                   -63684.0               -2872   \n",
      "10352                    14625.0               -2660   \n",
      "\n",
      "       Obrigações Sociais e Trabalhistas  Passivo Circulante  Passivo Total  \\\n",
      "0                                    -82               -2012        -347642   \n",
      "1                                   -112               -2158        -323655   \n",
      "2                                   -104                -314        -320788   \n",
      "3                                    -87               -4301       -1829110   \n",
      "4                                    -85              -20824       -1841909   \n",
      "...                                  ...                 ...            ...   \n",
      "10348                               -780            -1123926       -7110223   \n",
      "10349                               -800            -1517522       -7228303   \n",
      "10350                               -798             -658313       -7307064   \n",
      "10351                               -441             -829145       -7185096   \n",
      "10352                               -296             -471681       -7211873   \n",
      "\n",
      "       Patrimônio Líquido  Reservas de Lucro   Receita   Ano Mes  \n",
      "0                  287997                0.0  -28134.0  2020  03  \n",
      "1                  222294                0.0  -42335.0  2020  06  \n",
      "2                  218364                0.0  -12754.0  2020  09  \n",
      "3                 1822515                0.0  -76406.0  2021  03  \n",
      "4                 1818438                0.0  150632.0  2021  06  \n",
      "...                   ...                ...       ...   ...  ..  \n",
      "10348             3261916          1465767.0  147802.0  2021  06  \n",
      "10349             3346511          1465767.0  134154.0  2021  09  \n",
      "10350             3279586          1382591.0  184808.0  2022  03  \n",
      "10351             3137431          1301595.0   78401.0  2022  06  \n",
      "10352             3024088          1225413.0  165402.0  2022  09  \n",
      "\n",
      "[10353 rows x 17 columns]\n"
     ]
    }
   ],
   "source": [
    "print(df)"
   ]
  },
  {
   "cell_type": "code",
   "execution_count": 908,
   "id": "24ac2d09",
   "metadata": {},
   "outputs": [
    {
     "data": {
      "image/png": "[encoded data removed]",
      "text/plain": [
       "<Figure size 640x480 with 1 Axes>"
      ]
     },
     "metadata": {},
     "output_type": "display_data"
    }
   ],
   "source": [
    "plt.scatter( DF_Cuspidao['Patrimônio Líquido'],  DF_Cuspidao['Receita'],  \n",
    "            DF_Cuspidao['Receita|Lucro'], cmap =plt.cm.winter) \n",
    "plt.show()"
   ]
  },
  {
   "cell_type": "code",
   "execution_count": 1059,
   "id": "8160b4ee",
   "metadata": {},
   "outputs": [
    {
     "name": "stderr",
     "output_type": "stream",
     "text": [
      "C:\\Users\\marqu\\anaconda3\\lib\\site-packages\\sklearn\\cluster\\_kmeans.py:1036: UserWarning: KMeans is known to have a memory leak on Windows with MKL, when there are less chunks than available threads. You can avoid it by setting the environment variable OMP_NUM_THREADS=1.\n",
      "  warnings.warn(\n"
     ]
    },
    {
     "name": "stdout",
     "output_type": "stream",
     "text": [
      "                                        Nome Empresa Ticker    DT_REFER  \\\n",
      "0                                          AZUL S.A.   AZUL  2022-09-30   \n",
      "1                GOL LINHAS AEREAS INTELIGENTES S.A.   GOLL  2022-09-30   \n",
      "2             TPI - TRIUNFO PARTICIP. E INVEST. S.A.   TPIS  2022-09-30   \n",
      "3                                           CCR S.A.   CCRO  2022-09-30   \n",
      "4  INVESTIMENTOS E PARTICIP. EM INFRA S.A. - INVEPAR   IVPR  2022-09-30   \n",
      "5                                          RUMO S.A.   RAIL  2022-09-30   \n",
      "6                   SANTOS BRASIL PARTICIPACOES S.A.   STBP  2022-09-30   \n",
      "7  VAMOS LOCAÇÃO DE CAMINHÕES, MÁQUINAS E EQUIPAM...   VAMO  2022-09-30   \n",
      "\n",
      "                                          SETOR_ATIV  Patrimônio Líquido  \\\n",
      "0  Emp. Adm. Part. - Serviços Transporte e Logística           -20130507   \n",
      "1  Emp. Adm. Part. - Serviços Transporte e Logística           -21723443   \n",
      "2  Emp. Adm. Part. - Serviços Transporte e Logística              926523   \n",
      "3  Emp. Adm. Part. - Serviços Transporte e Logística            12334278   \n",
      "4  Emp. Adm. Part. - Serviços Transporte e Logística            -1346943   \n",
      "5  Emp. Adm. Part. - Serviços Transporte e Logística            15061025   \n",
      "6  Emp. Adm. Part. - Serviços Transporte e Logística             2139972   \n",
      "7  Emp. Adm. Part. - Serviços Transporte e Logística             3655761   \n",
      "\n",
      "     Receita         0          1  Receita|Lucro  \n",
      "0 -1704096.0 -20130507 -1704096.0              1  \n",
      "1 -1251366.0 -21723443 -1251366.0              1  \n",
      "2   -57104.0    926523   -57104.0              0  \n",
      "3    32417.0  12334278    32417.0              2  \n",
      "4   131377.0  -1346943   131377.0              0  \n",
      "5   326852.0  15061025   326852.0              2  \n",
      "6   346725.0   2139972   346725.0              0  \n",
      "7   503375.0   3655761   503375.0              0  \n"
     ]
    },
    {
     "name": "stderr",
     "output_type": "stream",
     "text": [
      "C:\\Users\\marqu\\anaconda3\\lib\\site-packages\\sklearn\\cluster\\_kmeans.py:1036: UserWarning: KMeans is known to have a memory leak on Windows with MKL, when there are less chunks than available threads. You can avoid it by setting the environment variable OMP_NUM_THREADS=1.\n",
      "  warnings.warn(\n",
      "C:\\Users\\marqu\\anaconda3\\lib\\site-packages\\sklearn\\cluster\\_kmeans.py:1036: UserWarning: KMeans is known to have a memory leak on Windows with MKL, when there are less chunks than available threads. You can avoid it by setting the environment variable OMP_NUM_THREADS=1.\n",
      "  warnings.warn(\n",
      "C:\\Users\\marqu\\anaconda3\\lib\\site-packages\\sklearn\\cluster\\_kmeans.py:1036: UserWarning: KMeans is known to have a memory leak on Windows with MKL, when there are less chunks than available threads. You can avoid it by setting the environment variable OMP_NUM_THREADS=1.\n",
      "  warnings.warn(\n",
      "C:\\Users\\marqu\\anaconda3\\lib\\site-packages\\sklearn\\cluster\\_kmeans.py:1036: UserWarning: KMeans is known to have a memory leak on Windows with MKL, when there are less chunks than available threads. You can avoid it by setting the environment variable OMP_NUM_THREADS=1.\n",
      "  warnings.warn(\n",
      "C:\\Users\\marqu\\anaconda3\\lib\\site-packages\\sklearn\\cluster\\_kmeans.py:1036: UserWarning: KMeans is known to have a memory leak on Windows with MKL, when there are less chunks than available threads. You can avoid it by setting the environment variable OMP_NUM_THREADS=1.\n",
      "  warnings.warn(\n",
      "C:\\Users\\marqu\\anaconda3\\lib\\site-packages\\sklearn\\cluster\\_kmeans.py:1036: UserWarning: KMeans is known to have a memory leak on Windows with MKL, when there are less chunks than available threads. You can avoid it by setting the environment variable OMP_NUM_THREADS=1.\n",
      "  warnings.warn(\n",
      "C:\\Users\\marqu\\anaconda3\\lib\\site-packages\\sklearn\\cluster\\_kmeans.py:1036: UserWarning: KMeans is known to have a memory leak on Windows with MKL, when there are less chunks than available threads. You can avoid it by setting the environment variable OMP_NUM_THREADS=1.\n",
      "  warnings.warn(\n",
      "C:\\Users\\marqu\\anaconda3\\lib\\site-packages\\sklearn\\cluster\\_kmeans.py:1036: UserWarning: KMeans is known to have a memory leak on Windows with MKL, when there are less chunks than available threads. You can avoid it by setting the environment variable OMP_NUM_THREADS=1.\n",
      "  warnings.warn(\n",
      "C:\\Users\\marqu\\anaconda3\\lib\\site-packages\\sklearn\\cluster\\_kmeans.py:1036: UserWarning: KMeans is known to have a memory leak on Windows with MKL, when there are less chunks than available threads. You can avoid it by setting the environment variable OMP_NUM_THREADS=1.\n",
      "  warnings.warn(\n",
      "C:\\Users\\marqu\\anaconda3\\lib\\site-packages\\sklearn\\cluster\\_kmeans.py:1036: UserWarning: KMeans is known to have a memory leak on Windows with MKL, when there are less chunks than available threads. You can avoid it by setting the environment variable OMP_NUM_THREADS=1.\n",
      "  warnings.warn(\n",
      "C:\\Users\\marqu\\anaconda3\\lib\\site-packages\\sklearn\\cluster\\_kmeans.py:1036: UserWarning: KMeans is known to have a memory leak on Windows with MKL, when there are less chunks than available threads. You can avoid it by setting the environment variable OMP_NUM_THREADS=1.\n",
      "  warnings.warn(\n"
     ]
    }
   ],
   "source": [
    "\n",
    "listCAD=df.drop_duplicates(subset='SETOR_ATIV')\n",
    "listCAD=listCAD['SETOR_ATIV'].values\n",
    "DF_Cuspidao=pd.DataFrame()\n",
    "\n",
    "    \n",
    "df3=df[(df[\"Ano\"]=='2022')&(df[\"Mes\"]=='09')].reset_index(drop=True)\n",
    "df3.sort_values(by=['Receita'], inplace=True)\n",
    "dfnames=df3[['Nome Empresa','Ticker','DT_REFER','SETOR_ATIV','Patrimônio Líquido','Receita']].reset_index(drop=True)\n",
    "df3=df3[['Patrimônio Líquido','Receita']].reset_index(drop=True)\n",
    "dfnames[0]=dfnames['Patrimônio Líquido']\n",
    "dfnames[1]=dfnames['Receita']\n",
    "features=dfnames[[0,1]]\n",
    "kmeans = KMeans(n_clusters=3, init='random',\n",
    "            n_init=10,\n",
    "            max_iter=300,random_state=0)\n",
    "kmeans.fit(features)\n",
    "\n",
    "#scaler = MinMaxScaler(feature_range=(0, 1)) \n",
    "#normalized_df = scaler.fit_transform(df5) \n",
    "\n",
    "\n",
    "\n",
    "# Converting the numpy array into a pandas DataFrame \n",
    "#features = pd.DataFrame(normalized_df)\n",
    "#dfnames[0]=features[0]\n",
    "#dfnames[1]=features[1]\n",
    "#features=dfnames[[0,1]]\n",
    "#pca = PCA(n_components = 2) \n",
    "#X_principal = pca.fit_transform(features) \n",
    "#features = pd.DataFrame(X_principal) \n",
    "#features.columns = ['P1', 'P2'] \n",
    "#dfnames[0]=features['P1']\n",
    "#dfnames[1]=features['P2']\n",
    "\n",
    "for x in listCAD:\n",
    "    \n",
    "    dftones=dfnames[dfnames['SETOR_ATIV']==x].reset_index(drop=True)\n",
    "   \n",
    "    features=dftones[[0,1]]\n",
    "\n",
    "    c=3\n",
    "    if len(dftones)<3:\n",
    "        c=len(dftones)\n",
    "        \n",
    "        \n",
    "    d = KMeans(n_clusters = c).fit_predict(features)\n",
    "    \n",
    "    dftones[\"Receita|Lucro\"]=d\n",
    "    \n",
    "    if x=='Emp. Adm. Part. - Serviços Transporte e Logística':\n",
    "\n",
    "        print(dftones)\n",
    "        \n",
    "    \n",
    "    DF_Cuspidao=pd.concat([dftones,DF_Cuspidao]).reset_index(drop=True)\n"
   ]
  },
  {
   "cell_type": "code",
   "execution_count": 1060,
   "id": "37523dee",
   "metadata": {},
   "outputs": [],
   "source": [
    "\n",
    "DF_Cuspidao.to_csv(rf\"C:\\Users\\marqu\\Desktop\\Estudos Finanças\\Cuspidão\\guspe2.csv\",decimal=',',sep=';', encoding='latin-1',index=False)"
   ]
  },
  {
   "cell_type": "code",
   "execution_count": 1034,
   "id": "a29dbf55",
   "metadata": {},
   "outputs": [
    {
     "ename": "SyntaxError",
     "evalue": "cannot assign to literal (2705871218.py, line 22)",
     "output_type": "error",
     "traceback": [
      "\u001b[1;36m  File \u001b[1;32m\"C:\\Users\\marqu\\AppData\\Local\\Temp\\ipykernel_36412\\2705871218.py\"\u001b[1;36m, line \u001b[1;32m22\u001b[0m\n\u001b[1;33m    1=bom\u001b[0m\n\u001b[1;37m    ^\u001b[0m\n\u001b[1;31mSyntaxError\u001b[0m\u001b[1;31m:\u001b[0m cannot assign to literal\n"
     ]
    }
   ],
   "source": [
    "x='Bancos'\n",
    "df3=df[(df[\"Ano\"]=='2022')&(df[\"Mes\"]=='09')&(df['SETOR_ATIV']==x)].reset_index(drop=True)\n",
    "df3.sort_values(by=['Receita'], inplace=True)\n",
    "dfnames=df3[['Nome Empresa','Ticker','DT_REFER','SETOR_ATIV','Patrimônio Líquido','Receita']].reset_index(drop=True)\n",
    "from sklearn.decomposition import PCA\n",
    "\n",
    "\n",
    "\n",
    "df3=df3[['Patrimônio Líquido','Receita']].reset_index(drop=True)\n",
    "df3['x1']=df3['Patrimônio Líquido']\n",
    "df3['x2']=df3['Receita']\n",
    "df5=df3[['x2','x1']]\n",
    "df5=df5.to_numpy()\n",
    "scaler = StandardScaler() \n",
    "scaled_df = scaler.fit_transform(df5) \n",
    "  \n",
    "# Normalizing the Data \n",
    "normalized_df = normalize(scaled_df) \n",
    "  \n",
    "# Converting the numpy array into a pandas DataFrame \n",
    "normalized_df = pd.DataFrame(normalized_df) \n",
    "1=bom\n",
    "0=ruim\n",
    "2=mediano\n",
    "pca = PCA(n_components = 2) \n",
    "X_principal = pca.fit_transform(normalized_df) \n",
    "X_principal = pd.DataFrame(X_principal) \n",
    "X_principal.columns = ['P1', 'P2'] \n",
    "sse = {}\n",
    "for k in range(1, 10):\n",
    "    kmeans = KMeans(n_clusters=k, init='random',\n",
    "            n_init=10,\n",
    "            max_iter=300,random_state=0).fit(X_principal)\n",
    "    sse[k] = kmeans.inertia_ # Inertia: Sum of distances of samples to their closest cluster cente\n",
    "plt.figure()\n",
    "plt.plot(list(sse.keys()), list(sse.values()))\n",
    "plt.xlabel(\"Number of cluster\")\n",
    "plt.ylabel(\"SSE\")\n",
    "plt.show()\n",
    "kmeans = KMeans(n_clusters=2, init='random',\n",
    "            n_init=10,\n",
    "            max_iter=300,random_state=0)\n",
    "kmeans.fit(X_principal)\n",
    "\n",
    "c = KMeans(n_clusters = 2, init='random',\n",
    "            n_init=10,\n",
    "            max_iter=300,random_state=0).fit_predict(X_principal)\n",
    "dfnames[\"Receita|Lucro\"]=c\n",
    "print(dfnames)"
   ]
  },
  {
   "cell_type": "code",
   "execution_count": 888,
   "id": "20768a03",
   "metadata": {},
   "outputs": [
    {
     "ename": "TypeError",
     "evalue": "fit() missing 1 required positional argument: 'y'",
     "output_type": "error",
     "traceback": [
      "\u001b[1;31m---------------------------------------------------------------------------\u001b[0m",
      "\u001b[1;31mTypeError\u001b[0m                                 Traceback (most recent call last)",
      "\u001b[1;32m~\\AppData\\Local\\Temp\\ipykernel_36412\\1487577285.py\u001b[0m in \u001b[0;36m<module>\u001b[1;34m\u001b[0m\n\u001b[0;32m      2\u001b[0m \u001b[0mclf\u001b[0m \u001b[1;33m=\u001b[0m \u001b[0mtree\u001b[0m\u001b[1;33m.\u001b[0m\u001b[0mDecisionTreeClassifier\u001b[0m\u001b[1;33m(\u001b[0m\u001b[1;33m)\u001b[0m\u001b[1;33m\u001b[0m\u001b[1;33m\u001b[0m\u001b[0m\n\u001b[0;32m      3\u001b[0m \u001b[0mnormalized_df\u001b[0m \u001b[1;33m=\u001b[0m \u001b[0mnormalize\u001b[0m\u001b[1;33m(\u001b[0m\u001b[0mscaled_df\u001b[0m\u001b[1;33m)\u001b[0m\u001b[1;33m\u001b[0m\u001b[1;33m\u001b[0m\u001b[0m\n\u001b[1;32m----> 4\u001b[1;33m \u001b[0mclf\u001b[0m \u001b[1;33m=\u001b[0m \u001b[0mclf\u001b[0m\u001b[1;33m.\u001b[0m\u001b[0mfit\u001b[0m\u001b[1;33m(\u001b[0m\u001b[0mnormalized_df\u001b[0m\u001b[1;33m)\u001b[0m\u001b[1;33m\u001b[0m\u001b[1;33m\u001b[0m\u001b[0m\n\u001b[0m\u001b[0;32m      5\u001b[0m \u001b[0mc\u001b[0m\u001b[1;33m=\u001b[0m\u001b[0mclf\u001b[0m\u001b[1;33m.\u001b[0m\u001b[0mpredict\u001b[0m\u001b[1;33m(\u001b[0m\u001b[0mnormalized_df\u001b[0m\u001b[1;33m)\u001b[0m\u001b[1;33m\u001b[0m\u001b[1;33m\u001b[0m\u001b[0m\n\u001b[0;32m      6\u001b[0m \u001b[0mdfnames\u001b[0m\u001b[1;33m[\u001b[0m\u001b[1;34m\"Receita|Lucro\"\u001b[0m\u001b[1;33m]\u001b[0m\u001b[1;33m=\u001b[0m\u001b[0mc\u001b[0m\u001b[1;33m\u001b[0m\u001b[1;33m\u001b[0m\u001b[0m\n",
      "\u001b[1;31mTypeError\u001b[0m: fit() missing 1 required positional argument: 'y'"
     ]
    }
   ],
   "source": [
    "from sklearn import tree\n",
    "clf = tree.DecisionTreeClassifier()\n",
    "normalized_df = normalize(scaled_df) \n",
    "clf = clf.fit(normalized_df)\n",
    "c=clf.predict(normalized_df)\n",
    "dfnames[\"Receita|Lucro\"]=c\n",
    "print(dfnames)"
   ]
  },
  {
   "cell_type": "code",
   "execution_count": null,
   "id": "91df6959",
   "metadata": {},
   "outputs": [],
   "source": [
    "pca = PCA(n_components = 2) \n",
    "X_principal = pca.fit_transform(normalized_df) \n",
    "X_principal = pd.DataFrame(X_principal) \n",
    "X_principal.columns = ['P1', 'P2'] \n",
    "\n",
    "km = KMeans(n_clusters= 4, init='random', random_state=0).fit(df5)\n",
    "y_km = km.fit_predict(df5)\n",
    "print(y_km)\n",
    "dfnames[\"Receita|Lucro\"]=y_km\n",
    "dfnames.sort_values(by=['Receita|Lucro'], inplace=True)\n",
    "print(dfnames)"
   ]
  },
  {
   "cell_type": "code",
   "execution_count": 842,
   "id": "889378e0",
   "metadata": {},
   "outputs": [
    {
     "data": {
      "image/png": "[encoded data removed]",
      "text/plain": [
       "<Figure size 640x480 with 1 Axes>"
      ]
     },
     "metadata": {},
     "output_type": "display_data"
    }
   ],
   "source": [
    "fig, ax = plt.subplots()\n",
    "plt.scatter(dfnames['Receita'],dfnames['Patrimônio Líquido'])\n",
    "plt.show()"
   ]
  },
  {
   "cell_type": "code",
   "execution_count": 835,
   "id": "70003f73",
   "metadata": {},
   "outputs": [
    {
     "name": "stderr",
     "output_type": "stream",
     "text": [
      "C:\\Users\\marqu\\anaconda3\\lib\\site-packages\\sklearn\\cluster\\_kmeans.py:1036: UserWarning: KMeans is known to have a memory leak on Windows with MKL, when there are less chunks than available threads. You can avoid it by setting the environment variable OMP_NUM_THREADS=1.\n",
      "  warnings.warn(\n"
     ]
    },
    {
     "name": "stdout",
     "output_type": "stream",
     "text": [
      "2.4526813939336956\n",
      "0.5369880577565191\n",
      "0.21899810259161406\n",
      "0.11456272157467604\n",
      "0.04841918969648474\n",
      "0.02994779450274463\n",
      "0.01555108975632571\n",
      "0.010762257334829833\n",
      "0.009776142334661753\n",
      "0.005642787146555751\n"
     ]
    }
   ],
   "source": [
    "wcss=[]\n",
    "for i in range(1,11):\n",
    "    kmeans = KMeans(n_clusters= i,init='random',\n",
    "            n_init=10,\n",
    "            max_iter=300,random_state=1000)\n",
    "    kmeans.fit(features)\n",
    "    print(kmeans.inertia_)\n",
    "    wcss.append(kmeans.inertia_)"
   ]
  },
  {
   "cell_type": "code",
   "execution_count": 836,
   "id": "38b6d758",
   "metadata": {},
   "outputs": [
    {
     "data": {
      "image/png": "[encoded data removed]",
      "text/plain": [
       "<Figure size 640x480 with 1 Axes>"
      ]
     },
     "metadata": {},
     "output_type": "display_data"
    }
   ],
   "source": [
    "plt.plot(range(1,11), wcss)\n",
    "plt.title('The Elbow Method')\n",
    "plt.xlabel('no of clusters')\n",
    "plt.ylabel('wcss')\n",
    "plt.show()"
   ]
  },
  {
   "cell_type": "code",
   "execution_count": 848,
   "id": "2292525d",
   "metadata": {},
   "outputs": [],
   "source": [
    "import numpy as np\n",
    "import matplotlib.pyplot as plt\n",
    "\n",
    "# Though the following import is not directly being used, it is required\n",
    "# for 3D projection to work with matplotlib < 3.2\n",
    "import mpl_toolkits.mplot3d  # noqa: F401\n",
    "\n",
    "from sklearn.cluster import KMeans\n",
    "from sklearn import datasets\n",
    "\n",
    "iris = datasets.load_iris()\n",
    "X = iris.data\n",
    "y = iris.target"
   ]
  },
  {
   "cell_type": "code",
   "execution_count": 849,
   "id": "9d892f09",
   "metadata": {},
   "outputs": [
    {
     "name": "stdout",
     "output_type": "stream",
     "text": [
      "[[5.1 3.5 1.4 0.2]\n",
      " [4.9 3.  1.4 0.2]\n",
      " [4.7 3.2 1.3 0.2]\n",
      " [4.6 3.1 1.5 0.2]\n",
      " [5.  3.6 1.4 0.2]\n",
      " [5.4 3.9 1.7 0.4]\n",
      " [4.6 3.4 1.4 0.3]\n",
      " [5.  3.4 1.5 0.2]\n",
      " [4.4 2.9 1.4 0.2]\n",
      " [4.9 3.1 1.5 0.1]\n",
      " [5.4 3.7 1.5 0.2]\n",
      " [4.8 3.4 1.6 0.2]\n",
      " [4.8 3.  1.4 0.1]\n",
      " [4.3 3.  1.1 0.1]\n",
      " [5.8 4.  1.2 0.2]\n",
      " [5.7 4.4 1.5 0.4]\n",
      " [5.4 3.9 1.3 0.4]\n",
      " [5.1 3.5 1.4 0.3]\n",
      " [5.7 3.8 1.7 0.3]\n",
      " [5.1 3.8 1.5 0.3]\n",
      " [5.4 3.4 1.7 0.2]\n",
      " [5.1 3.7 1.5 0.4]\n",
      " [4.6 3.6 1.  0.2]\n",
      " [5.1 3.3 1.7 0.5]\n",
      " [4.8 3.4 1.9 0.2]\n",
      " [5.  3.  1.6 0.2]\n",
      " [5.  3.4 1.6 0.4]\n",
      " [5.2 3.5 1.5 0.2]\n",
      " [5.2 3.4 1.4 0.2]\n",
      " [4.7 3.2 1.6 0.2]\n",
      " [4.8 3.1 1.6 0.2]\n",
      " [5.4 3.4 1.5 0.4]\n",
      " [5.2 4.1 1.5 0.1]\n",
      " [5.5 4.2 1.4 0.2]\n",
      " [4.9 3.1 1.5 0.2]\n",
      " [5.  3.2 1.2 0.2]\n",
      " [5.5 3.5 1.3 0.2]\n",
      " [4.9 3.6 1.4 0.1]\n",
      " [4.4 3.  1.3 0.2]\n",
      " [5.1 3.4 1.5 0.2]\n",
      " [5.  3.5 1.3 0.3]\n",
      " [4.5 2.3 1.3 0.3]\n",
      " [4.4 3.2 1.3 0.2]\n",
      " [5.  3.5 1.6 0.6]\n",
      " [5.1 3.8 1.9 0.4]\n",
      " [4.8 3.  1.4 0.3]\n",
      " [5.1 3.8 1.6 0.2]\n",
      " [4.6 3.2 1.4 0.2]\n",
      " [5.3 3.7 1.5 0.2]\n",
      " [5.  3.3 1.4 0.2]\n",
      " [7.  3.2 4.7 1.4]\n",
      " [6.4 3.2 4.5 1.5]\n",
      " [6.9 3.1 4.9 1.5]\n",
      " [5.5 2.3 4.  1.3]\n",
      " [6.5 2.8 4.6 1.5]\n",
      " [5.7 2.8 4.5 1.3]\n",
      " [6.3 3.3 4.7 1.6]\n",
      " [4.9 2.4 3.3 1. ]\n",
      " [6.6 2.9 4.6 1.3]\n",
      " [5.2 2.7 3.9 1.4]\n",
      " [5.  2.  3.5 1. ]\n",
      " [5.9 3.  4.2 1.5]\n",
      " [6.  2.2 4.  1. ]\n",
      " [6.1 2.9 4.7 1.4]\n",
      " [5.6 2.9 3.6 1.3]\n",
      " [6.7 3.1 4.4 1.4]\n",
      " [5.6 3.  4.5 1.5]\n",
      " [5.8 2.7 4.1 1. ]\n",
      " [6.2 2.2 4.5 1.5]\n",
      " [5.6 2.5 3.9 1.1]\n",
      " [5.9 3.2 4.8 1.8]\n",
      " [6.1 2.8 4.  1.3]\n",
      " [6.3 2.5 4.9 1.5]\n",
      " [6.1 2.8 4.7 1.2]\n",
      " [6.4 2.9 4.3 1.3]\n",
      " [6.6 3.  4.4 1.4]\n",
      " [6.8 2.8 4.8 1.4]\n",
      " [6.7 3.  5.  1.7]\n",
      " [6.  2.9 4.5 1.5]\n",
      " [5.7 2.6 3.5 1. ]\n",
      " [5.5 2.4 3.8 1.1]\n",
      " [5.5 2.4 3.7 1. ]\n",
      " [5.8 2.7 3.9 1.2]\n",
      " [6.  2.7 5.1 1.6]\n",
      " [5.4 3.  4.5 1.5]\n",
      " [6.  3.4 4.5 1.6]\n",
      " [6.7 3.1 4.7 1.5]\n",
      " [6.3 2.3 4.4 1.3]\n",
      " [5.6 3.  4.1 1.3]\n",
      " [5.5 2.5 4.  1.3]\n",
      " [5.5 2.6 4.4 1.2]\n",
      " [6.1 3.  4.6 1.4]\n",
      " [5.8 2.6 4.  1.2]\n",
      " [5.  2.3 3.3 1. ]\n",
      " [5.6 2.7 4.2 1.3]\n",
      " [5.7 3.  4.2 1.2]\n",
      " [5.7 2.9 4.2 1.3]\n",
      " [6.2 2.9 4.3 1.3]\n",
      " [5.1 2.5 3.  1.1]\n",
      " [5.7 2.8 4.1 1.3]\n",
      " [6.3 3.3 6.  2.5]\n",
      " [5.8 2.7 5.1 1.9]\n",
      " [7.1 3.  5.9 2.1]\n",
      " [6.3 2.9 5.6 1.8]\n",
      " [6.5 3.  5.8 2.2]\n",
      " [7.6 3.  6.6 2.1]\n",
      " [4.9 2.5 4.5 1.7]\n",
      " [7.3 2.9 6.3 1.8]\n",
      " [6.7 2.5 5.8 1.8]\n",
      " [7.2 3.6 6.1 2.5]\n",
      " [6.5 3.2 5.1 2. ]\n",
      " [6.4 2.7 5.3 1.9]\n",
      " [6.8 3.  5.5 2.1]\n",
      " [5.7 2.5 5.  2. ]\n",
      " [5.8 2.8 5.1 2.4]\n",
      " [6.4 3.2 5.3 2.3]\n",
      " [6.5 3.  5.5 1.8]\n",
      " [7.7 3.8 6.7 2.2]\n",
      " [7.7 2.6 6.9 2.3]\n",
      " [6.  2.2 5.  1.5]\n",
      " [6.9 3.2 5.7 2.3]\n",
      " [5.6 2.8 4.9 2. ]\n",
      " [7.7 2.8 6.7 2. ]\n",
      " [6.3 2.7 4.9 1.8]\n",
      " [6.7 3.3 5.7 2.1]\n",
      " [7.2 3.2 6.  1.8]\n",
      " [6.2 2.8 4.8 1.8]\n",
      " [6.1 3.  4.9 1.8]\n",
      " [6.4 2.8 5.6 2.1]\n",
      " [7.2 3.  5.8 1.6]\n",
      " [7.4 2.8 6.1 1.9]\n",
      " [7.9 3.8 6.4 2. ]\n",
      " [6.4 2.8 5.6 2.2]\n",
      " [6.3 2.8 5.1 1.5]\n",
      " [6.1 2.6 5.6 1.4]\n",
      " [7.7 3.  6.1 2.3]\n",
      " [6.3 3.4 5.6 2.4]\n",
      " [6.4 3.1 5.5 1.8]\n",
      " [6.  3.  4.8 1.8]\n",
      " [6.9 3.1 5.4 2.1]\n",
      " [6.7 3.1 5.6 2.4]\n",
      " [6.9 3.1 5.1 2.3]\n",
      " [5.8 2.7 5.1 1.9]\n",
      " [6.8 3.2 5.9 2.3]\n",
      " [6.7 3.3 5.7 2.5]\n",
      " [6.7 3.  5.2 2.3]\n",
      " [6.3 2.5 5.  1.9]\n",
      " [6.5 3.  5.2 2. ]\n",
      " [6.2 3.4 5.4 2.3]\n",
      " [5.9 3.  5.1 1.8]]\n"
     ]
    }
   ],
   "source": [
    "print(X)"
   ]
  },
  {
   "cell_type": "code",
   "execution_count": 850,
   "id": "a3c94846",
   "metadata": {},
   "outputs": [
    {
     "name": "stdout",
     "output_type": "stream",
     "text": [
      "[0 0 0 0 0 0 0 0 0 0 0 0 0 0 0 0 0 0 0 0 0 0 0 0 0 0 0 0 0 0 0 0 0 0 0 0 0\n",
      " 0 0 0 0 0 0 0 0 0 0 0 0 0 1 1 1 1 1 1 1 1 1 1 1 1 1 1 1 1 1 1 1 1 1 1 1 1\n",
      " 1 1 1 1 1 1 1 1 1 1 1 1 1 1 1 1 1 1 1 1 1 1 1 1 1 1 2 2 2 2 2 2 2 2 2 2 2\n",
      " 2 2 2 2 2 2 2 2 2 2 2 2 2 2 2 2 2 2 2 2 2 2 2 2 2 2 2 2 2 2 2 2 2 2 2 2 2\n",
      " 2 2]\n"
     ]
    }
   ],
   "source": [
    "\n",
    "print(y)"
   ]
  },
  {
   "cell_type": "code",
   "execution_count": 651,
   "id": "adff8418",
   "metadata": {},
   "outputs": [],
   "source": [
    "km = KMeans(\n",
    "    n_clusters=4, init='k-means++',\n",
    "    n_init=1000,\n",
    "    max_iter=300,random_state=0\n",
    "   )\n",
    "#y_km = km.fit(features)\n",
    "ykm=km.fit_predict(features)\n"
   ]
  },
  {
   "cell_type": "code",
   "execution_count": 652,
   "id": "f6a3c908",
   "metadata": {},
   "outputs": [
    {
     "name": "stdout",
     "output_type": "stream",
     "text": [
      "[0 0 0 0 0 0 0 0 0 0 0 0 0 0 0 0 0 0 0 0 0 0 0 0 0 0 0 0 0 0 0 0 0 0 0 0 0\n",
      " 0 0 0 0 0 0 0 0 0 0 0 0 0 0 0 0 0 0 0 0 0 0 0 0 0 0 0 0 0 0 0 0 0 0 0 0 0\n",
      " 0 0 0 0 0 0 0 0 0 0 0 0 0 0 0 0 0 0 0 0 0 0 0 0 0 0 0 0 0 0 0 0 0 0 0 0 0\n",
      " 0 0 0 0 0 0 0 0 0 0 0 0 0 0 0 0 0 0 0 0 0 0 0 0 0 0 0 0 0 0 0 0 0 0 0 0 0\n",
      " 0 0 0 0 0 0 0 0 0 0 0 0 0 0 0 0 0 0 0 0 0 0 0 0 0 0 0 0 0 0 0 0 0 0 0 0 0\n",
      " 0 0 0 0 0 0 0 0 0 0 0 0 0 0 0 0 0 0 0 0 0 0 0 0 0 0 0 0 0 0 0 0 0 0 0 0 0\n",
      " 0 0 0 0 0 0 0 0 0 0 0 0 0 0 0 0 0 0 0 0 0 0 0 0 0 0 0 0 0 0 0 0 0 0 0 0 0\n",
      " 0 0 0 0 0 0 0 0 0 0 0 0 0 0 0 0 0 0 0 0 0 0 0 0 0 0 0 0 0 0 0 0 0 0 0 0 0\n",
      " 0 0 0 0 0 0 0 0 0 0 0 0 0 0 0 0 0 0 0 0 0 0 3 3 2 3 1 1]\n"
     ]
    }
   ],
   "source": [
    "print(ykm)"
   ]
  },
  {
   "cell_type": "code",
   "execution_count": 653,
   "id": "372946e6",
   "metadata": {
    "scrolled": true
   },
   "outputs": [
    {
     "data": {
      "image/png": "[encoded data removed]",
      "text/plain": [
       "<Figure size 640x480 with 1 Axes>"
      ]
     },
     "metadata": {},
     "output_type": "display_data"
    }
   ],
   "source": [
    "fig, ax = plt.subplots()\n",
    "plt.scatter(ykm,df3['x1'])\n",
    "plt.show()"
   ]
  },
  {
   "cell_type": "code",
   "execution_count": 638,
   "id": "1a56d243",
   "metadata": {},
   "outputs": [
    {
     "name": "stdout",
     "output_type": "stream",
     "text": [
      "KMeans(init='random', n_clusters=3, random_state=0)\n"
     ]
    }
   ],
   "source": [
    "print(y_km)"
   ]
  },
  {
   "cell_type": "code",
   "execution_count": 639,
   "id": "4801fef5",
   "metadata": {},
   "outputs": [],
   "source": []
  },
  {
   "cell_type": "code",
   "execution_count": 640,
   "id": "548540e6",
   "metadata": {},
   "outputs": [],
   "source": [
    "#DF_Cuspidão=pd.Concat[[dfnames,DF_Cuspidão]].reset_index(drop=True)"
   ]
  },
  {
   "cell_type": "code",
   "execution_count": 641,
   "id": "1fe867a0",
   "metadata": {},
   "outputs": [
    {
     "name": "stdout",
     "output_type": "stream",
     "text": [
      "                            Nome Empresa Ticker    DT_REFER  \\\n",
      "0                           BCO PAN S.A.   BPAN  2022-09-30   \n",
      "1                              AZUL S.A.   AZUL  2022-09-30   \n",
      "2    GOL LINHAS AEREAS INTELIGENTES S.A.   GOLL  2022-09-30   \n",
      "3                NATURA &CO HOLDING S.A.   NTCO  2022-09-30   \n",
      "4                          BANCO BMG S/A   BMGB  2022-09-30   \n",
      "..                                   ...    ...         ...   \n",
      "319                    VIBRA ENERGIA S/A   VBBR  2022-09-30   \n",
      "320            VIVARA PARTICIPAÇÕES S.A.   VIVA  2022-09-30   \n",
      "321      PETTENATI S.A. INDUSTRIA TEXTIL   PTNT  2022-09-30   \n",
      "322   PETROLEO BRASILEIRO S.A. PETROBRAS   PETR  2022-09-30   \n",
      "323    METISA METALURGICA TIMBOENSE S.A.   MTSA  2022-09-30   \n",
      "\n",
      "                                            SETOR_ATIV  Patrimônio Líquido  \\\n",
      "0                                               Bancos             7791628   \n",
      "1    Emp. Adm. Part. - Serviços Transporte e Logística           -20130507   \n",
      "2    Emp. Adm. Part. - Serviços Transporte e Logística           -21723443   \n",
      "3                               Farmacêutico e Higiene            22984957   \n",
      "4                                               Bancos             3839062   \n",
      "..                                                 ...                 ...   \n",
      "319                        Comércio (Atacado e Varejo)            12636000   \n",
      "320                        Comércio (Atacado e Varejo)          1584369659   \n",
      "321                                 Têxtil e Vestuário           353213292   \n",
      "322                                     Petróleo e Gás           372498000   \n",
      "323                            Metalurgia e Siderurgia           372455527   \n",
      "\n",
      "         Receita  Cluster Patrimonio|Receita  \n",
      "0     -1704193.0                           0  \n",
      "1     -1704096.0                           0  \n",
      "2     -1251366.0                           0  \n",
      "3      -495108.0                           0  \n",
      "4      -386663.0                           0  \n",
      "..           ...                         ...  \n",
      "319   50498000.0                           0  \n",
      "320   68044722.0                           1  \n",
      "321   81069054.0                           2  \n",
      "322  163747000.0                           2  \n",
      "323  228709898.0                           2  \n",
      "\n",
      "[324 rows x 7 columns]\n"
     ]
    }
   ],
   "source": [
    "print(dfnames)"
   ]
  },
  {
   "cell_type": "code",
   "execution_count": 417,
   "id": "70605661",
   "metadata": {},
   "outputs": [],
   "source": [
    "dfnames.to_csv(rf\"C:\\Users\\marqu\\Desktop\\Estudos Finanças\\Cuspidão\\guspe2.csv\",decimal=',',sep=';', encoding='latin-1',index=False)"
   ]
  },
  {
   "cell_type": "code",
   "execution_count": null,
   "id": "5cea1df7",
   "metadata": {},
   "outputs": [],
   "source": []
  },
  {
   "cell_type": "code",
   "execution_count": null,
   "id": "36ef149d",
   "metadata": {},
   "outputs": [],
   "source": []
  },
  {
   "cell_type": "code",
   "execution_count": null,
   "id": "a4ceb021",
   "metadata": {},
   "outputs": [],
   "source": [
    "df['i']=df['DT_REFER'].apply(str).str[2:4]+df['Nome Empresa'].apply(str)+df['DT_REFER'].apply(str).str[5:7]\n",
    "df3['x1']=minmax_scaling(df3, columns=['Patrimônio Líquido'])\n",
    "df3['x2']=minmax_scaling(df3, columns=['Receita'])\n",
    "df5=df3[['x1','x2']]\n",
    "df5=df5.to_numpy()"
   ]
  }
 ],
 "metadata": {
  "kernelspec": {
   "display_name": "Python 3 (ipykernel)",
   "language": "python",
   "name": "python3"
  },
  "language_info": {
   "codemirror_mode": {
    "name": "ipython",
    "version": 3
   },
   "file_extension": ".py",
   "mimetype": "text/x-python",
   "name": "python",
   "nbconvert_exporter": "python",
   "pygments_lexer": "ipython3",
   "version": "3.9.13"
  }
 },
 "nbformat": 4,
 "nbformat_minor": 5
}
